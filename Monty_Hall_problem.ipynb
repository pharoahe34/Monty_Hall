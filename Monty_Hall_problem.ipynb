{
  "nbformat": 4,
  "nbformat_minor": 0,
  "metadata": {
    "colab": {
      "name": "Monty_Hall_problem.ipynb",
      "version": "0.3.2",
      "provenance": []
    },
    "kernelspec": {
      "name": "python3",
      "display_name": "Python 3"
    }
  },
  "cells": [
    {
      "cell_type": "markdown",
      "metadata": {
        "id": "7y7WhJUMQZ2X",
        "colab_type": "text"
      },
      "source": [
        "# The Monty Hall Problem"
      ]
    },
    {
      "cell_type": "code",
      "metadata": {
        "id": "nLoxXuoREvY_",
        "colab_type": "code",
        "colab": {}
      },
      "source": [
        "# To display the graphs in the continuity of the code\n",
        "%matplotlib inline\n",
        "\n",
        "# The randint function generates int numbers at random\n",
        "from random import randint, seed\n",
        "\n",
        "# An Enum is a data structure that consists of a set of named elements.\n",
        "# Each constant is a key/value pair.\n",
        "from enum import Enum\n",
        "\n",
        "# To be able to display graphs:\n",
        "import matplotlib.pyplot as plt"
      ],
      "execution_count": 0,
      "outputs": []
    },
    {
      "cell_type": "markdown",
      "metadata": {
        "id": "J1-fSg8jQmTx",
        "colab_type": "text"
      },
      "source": [
        "### Strategies of the player"
      ]
    },
    {
      "cell_type": "code",
      "metadata": {
        "id": "jq7Lg7qcE0FY",
        "colab_type": "code",
        "colab": {}
      },
      "source": [
        "class Strategie(Enum):\n",
        "  \"\"\"Here we define a subclass of Enum,\n",
        "  which will contain the possible strategies for the player.\n",
        "  \"\"\"\n",
        "  CHANGER = 1\n",
        "  GARDER = 2"
      ],
      "execution_count": 0,
      "outputs": []
    },
    {
      "cell_type": "code",
      "metadata": {
        "id": "HfkGEI6_JNJa",
        "colab_type": "code",
        "colab": {}
      },
      "source": [
        "# seed() initializes the state of the random number generator.\n",
        "# Using this function with a fixed value, \n",
        "# the same sequence will be generated from one program run to another.\n",
        "# Without value, random.seed() takes the internal clock as generator. \n",
        "seed()\n",
        "\n",
        "def play_game(strategie):\n",
        "    '''Simulation of the Monty Hall game.\n",
        "    \n",
        "    This function simulates the participant's choice of door, \n",
        "    the elimination of a bad door by the presenter, and the \n",
        "    final choice. It only returns the result of the game.\n",
        "    We will only need the result to perform our calculations.\n",
        "    \n",
        "    Args:\n",
        "        strategie (Strategie): The player's strategy\n",
        "        \n",
        "    Returns:\n",
        "        bool: Has the player won?\n",
        "\n",
        "    '''\n",
        "\n",
        "    portes = [0, 1, 2]\n",
        "    \n",
        "    bonne_porte = randint(0,2)\n",
        "    \n",
        "    # Choice of the player\n",
        "    premier_choix = randint(0,2)\n",
        "    \n",
        "    # Two doors left\n",
        "    portes.remove(premier_choix)\n",
        "    \n",
        "    # The presenter eliminates a door\n",
        "    if premier_choix == bonne_porte:\n",
        "        portes.remove(portes[randint(0,1)])\n",
        "    else:\n",
        "        portes = [bonne_porte]\n",
        "    \n",
        "    deuxieme_choix = 0\n",
        "    # The second choice depends on the strategy\n",
        "    if strategie == Strategie.CHANGER:\n",
        "        deuxieme_choix = portes[0]\n",
        "    elif strategie == Strategie.GARDER:\n",
        "        deuxieme_choix = premier_choix\n",
        "    else:\n",
        "        raise ValueError(\"Strategy not recognized!\")\n",
        "    \n",
        "    return deuxieme_choix == bonne_porte"
      ],
      "execution_count": 0,
      "outputs": []
    },
    {
      "cell_type": "markdown",
      "metadata": {
        "id": "bnM1z2RZQzvv",
        "colab_type": "text"
      },
      "source": [
        "### Simulate several parties"
      ]
    },
    {
      "cell_type": "code",
      "metadata": {
        "id": "OYwXnRszNzFU",
        "colab_type": "code",
        "colab": {}
      },
      "source": [
        "def play(strategie, nb_tours):\n",
        "    '''Simulates a sequence of game turns.\n",
        "    \n",
        "    This function returns the results of the game Monty Hall in the form of\n",
        "    a list of winnings by the player.\n",
        "    \n",
        "    Args:\n",
        "        strategy (Strategie): The player's strategy\n",
        "        nb_turns (int): Number of revolutions\n",
        "        \n",
        "    Returns:\n",
        "        list: List of players' winnings for each game\n",
        "    '''\n",
        "    \n",
        "    # will return the result of each game in a list\n",
        "    return [1 if play_game(strategie) else 0 for i in range(nb_tours)]"
      ],
      "execution_count": 0,
      "outputs": []
    },
    {
      "cell_type": "markdown",
      "metadata": {
        "id": "Q1trjOfzP9Cf",
        "colab_type": "text"
      },
      "source": [
        "### Analysis of the results"
      ]
    },
    {
      "cell_type": "code",
      "metadata": {
        "id": "Wr8-3RYZO8rR",
        "colab_type": "code",
        "colab": {
          "base_uri": "https://localhost:8080/",
          "height": 52
        },
        "outputId": "d41bc94e-f0e3-485c-9727-1f52025cced4"
      },
      "source": [
        "print(\"By changing doors, the player has won {} out of 10,000 games.\"\n",
        "      .format(sum(play(Strategie.CHANGER, 10000))))\n",
        "      \n",
        "print(\"By keeping his initial choice, the player has won {} out of 10,000 games.\"\n",
        "      .format(sum(play(Strategie.GARDER, 10000))))"
      ],
      "execution_count": 19,
      "outputs": [
        {
          "output_type": "stream",
          "text": [
            "By changing doors, the player has won 6617 out of 10,000 games.\n",
            "By keeping his initial choice, the player has won 3371 out of 10,000 games.\n"
          ],
          "name": "stdout"
        }
      ]
    },
    {
      "cell_type": "markdown",
      "metadata": {
        "id": "oP6CbLJHPs82",
        "colab_type": "text"
      },
      "source": [
        "The player who changed doors therefore won approximately twice as often as the player who kept his initial choice...\n",
        "Were you expecting it? \n",
        "And even after faking it, don't you find it hard to believe?"
      ]
    },
    {
      "cell_type": "markdown",
      "metadata": {
        "id": "3QPrf-QsQF-c",
        "colab_type": "text"
      },
      "source": [
        "### Viz with matplotlib\n"
      ]
    },
    {
      "cell_type": "code",
      "metadata": {
        "id": "5eoVTw-gPMeF",
        "colab_type": "code",
        "colab": {
          "base_uri": "https://localhost:8080/",
          "height": 269
        },
        "outputId": "b869d3c5-f47e-4262-8692-01881b90efd3"
      },
      "source": [
        "# plot returns an object, which can be manipulated later to customize the graph\n",
        "# plot linked points together\n",
        "plot = plt.plot(play(Strategie.CHANGER, 15))"
      ],
      "execution_count": 24,
      "outputs": [
        {
          "output_type": "display_data",
          "data": {
            "image/png": "[encoded data removed]",
            "text/plain": [
              "<Figure size 432x288 with 1 Axes>"
            ]
          },
          "metadata": {
            "tags": []
          }
        }
      ]
    },
    {
      "cell_type": "code",
      "metadata": {
        "id": "iYypIKI8RM59",
        "colab_type": "code",
        "colab": {
          "base_uri": "https://localhost:8080/",
          "height": 269
        },
        "outputId": "20a2ee5d-9896-469c-a9da-5a1a556e864b"
      },
      "source": [
        "# scatter works like plot but don't linked point\n",
        "plot = plt.scatter(range(50), play(Strategie.CHANGER, 50))"
      ],
      "execution_count": 27,
      "outputs": [
        {
          "output_type": "display_data",
          "data": {
            "image/png": "[encoded data removed]",
            "text/plain": [
              "<Figure size 432x288 with 1 Axes>"
            ]
          },
          "metadata": {
            "tags": []
          }
        }
      ]
    },
    {
      "cell_type": "code",
      "metadata": {
        "id": "ey9aW_MISENQ",
        "colab_type": "code",
        "colab": {
          "base_uri": "https://localhost:8080/",
          "height": 269
        },
        "outputId": "3a8e325c-5896-446a-b721-a0e637e6474d"
      },
      "source": [
        "# bar is a function of plot, that show you columns\n",
        "plot = plt.bar([1,2],[sum(play(Strategie.CHANGER, 10000)),\n",
        "                      sum(play(Strategie.GARDER, 10000))], \n",
        "               tick_label = [\"Changer\",\"Garder\"])"
      ],
      "execution_count": 30,
      "outputs": [
        {
          "output_type": "display_data",
          "data": {
            "image/png": "[encoded data removed]",
            "text/plain": [
              "<Figure size 432x288 with 1 Axes>"
            ]
          },
          "metadata": {
            "tags": []
          }
        }
      ]
    },
    {
      "cell_type": "markdown",
      "metadata": {
        "id": "B-5bbi4SS_D9",
        "colab_type": "text"
      },
      "source": [
        "If you want to know more, don't hesitate to consult the [Wikipedia article](https://https://en.wikipedia.org/wiki/Monty_Hall_problem) dedicated to it.\n"
      ]
    }
  ]
}